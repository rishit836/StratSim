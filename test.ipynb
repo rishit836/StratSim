{
 "cells": [
  {
   "cell_type": "code",
   "execution_count": 33,
   "id": "69d93824",
   "metadata": {},
   "outputs": [],
   "source": [
    "import yfinance as yf\n",
    "import pandas as pd"
   ]
  },
  {
   "cell_type": "code",
   "execution_count": 12,
   "id": "e1d4d572",
   "metadata": {},
   "outputs": [],
   "source": [
    "response = yf.screen('day_gainers')"
   ]
  },
  {
   "cell_type": "code",
   "execution_count": 26,
   "id": "c4444d6a",
   "metadata": {},
   "outputs": [],
   "source": [
    "symbols,names,current_price,price_change,percent_change = [], [],[],[],[]\n",
    "for data in response['quotes']:\n",
    "    symbols.append(data['symbol'])\n",
    "    names.append(data['longName'])\n",
    "    current_price.append(data['regularMarketPrice'])\n",
    "    price_change.append(data['regularMarketChange'])\n",
    "    percent_change.append(data['regularMarketChangePercent'])\n"
   ]
  },
  {
   "cell_type": "code",
   "execution_count": 34,
   "id": "46b6677e",
   "metadata": {},
   "outputs": [],
   "source": [
    "def generate_data(d):\n",
    "    response = yf.screen(d)\n",
    "    symbols,names,current_price,price_change,percent_change = [], [],[],[],[]\n",
    "    for data in response['quotes']:\n",
    "        symbols.append(data['symbol'])\n",
    "        names.append(data['longName'])\n",
    "        current_price.append(data['regularMarketPrice'])\n",
    "        price_change.append(data['regularMarketChange'])\n",
    "        percent_change.append(data['regularMarketChangePercent'])\n",
    "    data_dict = {\"symbol\":symbols,\n",
    "                 \"name\":names,\n",
    "                 \"current_price\":current_price,\n",
    "                 \"price_change\":price_change,\n",
    "                 \"percent_change\":percent_change}\n",
    "    return pd.DataFrame(data_dict)"
   ]
  },
  {
   "cell_type": "code",
   "execution_count": null,
   "id": "19732a4b",
   "metadata": {},
   "outputs": [],
   "source": [
    "top_100 = generate_data('day_gainers')\n",
    "most_active = generate_data('most_actives')\n",
    "trend = generate_data('aggressive_small_caps')"
   ]
  },
  {
   "cell_type": "code",
   "execution_count": 44,
   "id": "d4e3aee3",
   "metadata": {},
   "outputs": [
    {
     "data": {
      "application/vnd.microsoft.datawrangler.viewer.v0+json": {
       "columns": [
        {
         "name": "index",
         "rawType": "int64",
         "type": "integer"
        },
        {
         "name": "symbol",
         "rawType": "object",
         "type": "string"
        },
        {
         "name": "name",
         "rawType": "object",
         "type": "string"
        },
        {
         "name": "current_price",
         "rawType": "float64",
         "type": "float"
        },
        {
         "name": "price_change",
         "rawType": "float64",
         "type": "float"
        },
        {
         "name": "percent_change",
         "rawType": "float64",
         "type": "float"
        },
        {
         "name": "list_type",
         "rawType": "object",
         "type": "string"
        }
       ],
       "ref": "ce4a10d9-ae9a-4460-9d67-9a5a1aa091e6",
       "rows": [
        [
         "0",
         "OKLO",
         "Oklo Inc.",
         "68.03",
         "15.49",
         "29.4823",
         "top_100"
        ],
        [
         "1",
         "QUBT",
         "Quantum Computing Inc.",
         "18.97",
         "3.84",
         "25.38",
         "top_100"
        ],
        [
         "2",
         "SMR",
         "NuScale Power Corporation",
         "41.6",
         "7.05",
         "20.4052",
         "top_100"
        ],
        [
         "3",
         "RGTI",
         "Rigetti Computing, Inc.",
         "12.52",
         "1.28",
         "11.3879",
         "top_100"
        ],
        [
         "4",
         "FLR",
         "Fluor Corporation",
         "49.79",
         "4.92",
         "10.965",
         "top_100"
        ]
       ],
       "shape": {
        "columns": 6,
        "rows": 5
       }
      },
      "text/html": [
       "<div>\n",
       "<style scoped>\n",
       "    .dataframe tbody tr th:only-of-type {\n",
       "        vertical-align: middle;\n",
       "    }\n",
       "\n",
       "    .dataframe tbody tr th {\n",
       "        vertical-align: top;\n",
       "    }\n",
       "\n",
       "    .dataframe thead th {\n",
       "        text-align: right;\n",
       "    }\n",
       "</style>\n",
       "<table border=\"1\" class=\"dataframe\">\n",
       "  <thead>\n",
       "    <tr style=\"text-align: right;\">\n",
       "      <th></th>\n",
       "      <th>symbol</th>\n",
       "      <th>name</th>\n",
       "      <th>current_price</th>\n",
       "      <th>price_change</th>\n",
       "      <th>percent_change</th>\n",
       "      <th>list_type</th>\n",
       "    </tr>\n",
       "  </thead>\n",
       "  <tbody>\n",
       "    <tr>\n",
       "      <th>0</th>\n",
       "      <td>OKLO</td>\n",
       "      <td>Oklo Inc.</td>\n",
       "      <td>68.03</td>\n",
       "      <td>15.49</td>\n",
       "      <td>29.4823</td>\n",
       "      <td>top_100</td>\n",
       "    </tr>\n",
       "    <tr>\n",
       "      <th>1</th>\n",
       "      <td>QUBT</td>\n",
       "      <td>Quantum Computing Inc.</td>\n",
       "      <td>18.97</td>\n",
       "      <td>3.84</td>\n",
       "      <td>25.3800</td>\n",
       "      <td>top_100</td>\n",
       "    </tr>\n",
       "    <tr>\n",
       "      <th>2</th>\n",
       "      <td>SMR</td>\n",
       "      <td>NuScale Power Corporation</td>\n",
       "      <td>41.60</td>\n",
       "      <td>7.05</td>\n",
       "      <td>20.4052</td>\n",
       "      <td>top_100</td>\n",
       "    </tr>\n",
       "    <tr>\n",
       "      <th>3</th>\n",
       "      <td>RGTI</td>\n",
       "      <td>Rigetti Computing, Inc.</td>\n",
       "      <td>12.52</td>\n",
       "      <td>1.28</td>\n",
       "      <td>11.3879</td>\n",
       "      <td>top_100</td>\n",
       "    </tr>\n",
       "    <tr>\n",
       "      <th>4</th>\n",
       "      <td>FLR</td>\n",
       "      <td>Fluor Corporation</td>\n",
       "      <td>49.79</td>\n",
       "      <td>4.92</td>\n",
       "      <td>10.9650</td>\n",
       "      <td>top_100</td>\n",
       "    </tr>\n",
       "  </tbody>\n",
       "</table>\n",
       "</div>"
      ],
      "text/plain": [
       "  symbol                       name  current_price  price_change  \\\n",
       "0   OKLO                  Oklo Inc.          68.03         15.49   \n",
       "1   QUBT     Quantum Computing Inc.          18.97          3.84   \n",
       "2    SMR  NuScale Power Corporation          41.60          7.05   \n",
       "3   RGTI    Rigetti Computing, Inc.          12.52          1.28   \n",
       "4    FLR          Fluor Corporation          49.79          4.92   \n",
       "\n",
       "   percent_change list_type  \n",
       "0         29.4823   top_100  \n",
       "1         25.3800   top_100  \n",
       "2         20.4052   top_100  \n",
       "3         11.3879   top_100  \n",
       "4         10.9650   top_100  "
      ]
     },
     "execution_count": 44,
     "metadata": {},
     "output_type": "execute_result"
    }
   ],
   "source": [
    "if not \"list_type\" in top_100.columns:\n",
    "    top_100[\"list_type\"] = [\"top_100\" for i in range(len(top_100['symbol'].to_list()))]\n",
    "top_100.head()"
   ]
  },
  {
   "cell_type": "code",
   "execution_count": 45,
   "id": "d45ad66d",
   "metadata": {},
   "outputs": [
    {
     "data": {
      "application/vnd.microsoft.datawrangler.viewer.v0+json": {
       "columns": [
        {
         "name": "index",
         "rawType": "int64",
         "type": "integer"
        },
        {
         "name": "symbol",
         "rawType": "object",
         "type": "string"
        },
        {
         "name": "name",
         "rawType": "object",
         "type": "string"
        },
        {
         "name": "current_price",
         "rawType": "float64",
         "type": "float"
        },
        {
         "name": "price_change",
         "rawType": "float64",
         "type": "float"
        },
        {
         "name": "percent_change",
         "rawType": "float64",
         "type": "float"
        },
        {
         "name": "list_type",
         "rawType": "object",
         "type": "string"
        }
       ],
       "ref": "f826ae40-194e-4f44-a68a-52d530ed31bd",
       "rows": [
        [
         "0",
         "RGTI",
         "Rigetti Computing, Inc.",
         "12.52",
         "1.28",
         "11.3879",
         "most_active"
        ],
        [
         "1",
         "NVDA",
         "NVIDIA Corporation",
         "142.83",
         "-1.12",
         "-0.778045",
         "most_active"
        ],
        [
         "2",
         "INTC",
         "Intel Corporation",
         "20.68",
         "-1.428",
         "-6.4592",
         "most_active"
        ],
        [
         "3",
         "QUBT",
         "Quantum Computing Inc.",
         "18.97",
         "3.84",
         "25.38",
         "most_active"
        ],
        [
         "4",
         "TSLA",
         "Tesla, Inc.",
         "326.43",
         "0.339996",
         "0.104265",
         "most_active"
        ]
       ],
       "shape": {
        "columns": 6,
        "rows": 5
       }
      },
      "text/html": [
       "<div>\n",
       "<style scoped>\n",
       "    .dataframe tbody tr th:only-of-type {\n",
       "        vertical-align: middle;\n",
       "    }\n",
       "\n",
       "    .dataframe tbody tr th {\n",
       "        vertical-align: top;\n",
       "    }\n",
       "\n",
       "    .dataframe thead th {\n",
       "        text-align: right;\n",
       "    }\n",
       "</style>\n",
       "<table border=\"1\" class=\"dataframe\">\n",
       "  <thead>\n",
       "    <tr style=\"text-align: right;\">\n",
       "      <th></th>\n",
       "      <th>symbol</th>\n",
       "      <th>name</th>\n",
       "      <th>current_price</th>\n",
       "      <th>price_change</th>\n",
       "      <th>percent_change</th>\n",
       "      <th>list_type</th>\n",
       "    </tr>\n",
       "  </thead>\n",
       "  <tbody>\n",
       "    <tr>\n",
       "      <th>0</th>\n",
       "      <td>RGTI</td>\n",
       "      <td>Rigetti Computing, Inc.</td>\n",
       "      <td>12.52</td>\n",
       "      <td>1.280000</td>\n",
       "      <td>11.387900</td>\n",
       "      <td>most_active</td>\n",
       "    </tr>\n",
       "    <tr>\n",
       "      <th>1</th>\n",
       "      <td>NVDA</td>\n",
       "      <td>NVIDIA Corporation</td>\n",
       "      <td>142.83</td>\n",
       "      <td>-1.120000</td>\n",
       "      <td>-0.778045</td>\n",
       "      <td>most_active</td>\n",
       "    </tr>\n",
       "    <tr>\n",
       "      <th>2</th>\n",
       "      <td>INTC</td>\n",
       "      <td>Intel Corporation</td>\n",
       "      <td>20.68</td>\n",
       "      <td>-1.428000</td>\n",
       "      <td>-6.459200</td>\n",
       "      <td>most_active</td>\n",
       "    </tr>\n",
       "    <tr>\n",
       "      <th>3</th>\n",
       "      <td>QUBT</td>\n",
       "      <td>Quantum Computing Inc.</td>\n",
       "      <td>18.97</td>\n",
       "      <td>3.840000</td>\n",
       "      <td>25.380000</td>\n",
       "      <td>most_active</td>\n",
       "    </tr>\n",
       "    <tr>\n",
       "      <th>4</th>\n",
       "      <td>TSLA</td>\n",
       "      <td>Tesla, Inc.</td>\n",
       "      <td>326.43</td>\n",
       "      <td>0.339996</td>\n",
       "      <td>0.104265</td>\n",
       "      <td>most_active</td>\n",
       "    </tr>\n",
       "  </tbody>\n",
       "</table>\n",
       "</div>"
      ],
      "text/plain": [
       "  symbol                     name  current_price  price_change  \\\n",
       "0   RGTI  Rigetti Computing, Inc.          12.52      1.280000   \n",
       "1   NVDA       NVIDIA Corporation         142.83     -1.120000   \n",
       "2   INTC        Intel Corporation          20.68     -1.428000   \n",
       "3   QUBT   Quantum Computing Inc.          18.97      3.840000   \n",
       "4   TSLA              Tesla, Inc.         326.43      0.339996   \n",
       "\n",
       "   percent_change    list_type  \n",
       "0       11.387900  most_active  \n",
       "1       -0.778045  most_active  \n",
       "2       -6.459200  most_active  \n",
       "3       25.380000  most_active  \n",
       "4        0.104265  most_active  "
      ]
     },
     "execution_count": 45,
     "metadata": {},
     "output_type": "execute_result"
    }
   ],
   "source": [
    "if not \"list_type\" in most_active.columns:\n",
    "    most_active[\"list_type\"] = [\"most_active\" for i in range(len(most_active['symbol'].to_list()))]\n",
    "most_active.head()"
   ]
  },
  {
   "cell_type": "code",
   "execution_count": 49,
   "id": "9c456c95",
   "metadata": {},
   "outputs": [
    {
     "data": {
      "application/vnd.microsoft.datawrangler.viewer.v0+json": {
       "columns": [
        {
         "name": "index",
         "rawType": "int64",
         "type": "integer"
        },
        {
         "name": "symbol",
         "rawType": "object",
         "type": "string"
        },
        {
         "name": "name",
         "rawType": "object",
         "type": "string"
        },
        {
         "name": "current_price",
         "rawType": "float64",
         "type": "float"
        },
        {
         "name": "price_change",
         "rawType": "float64",
         "type": "float"
        },
        {
         "name": "percent_change",
         "rawType": "float64",
         "type": "float"
        },
        {
         "name": "list_type",
         "rawType": "object",
         "type": "string"
        }
       ],
       "ref": "dc7e26ac-f980-4fe0-afa1-dd3df67d1ce4",
       "rows": [
        [
         "0",
         "ATUS",
         "Altice USA, Inc.",
         "2.21",
         "-0.00999999",
         "-0.45045",
         "trending"
        ],
        [
         "1",
         "JBLU",
         "JetBlue Airways Corporation",
         "4.86",
         "-0.18",
         "-3.57143",
         "trending"
        ],
        [
         "2",
         "KOS",
         "Kosmos Energy Ltd.",
         "2.13",
         "0.13",
         "6.50001",
         "trending"
        ],
        [
         "3",
         "DOLE",
         "Dole plc",
         "13.81",
         "0.0900002",
         "0.655978",
         "trending"
        ],
        [
         "4",
         "AVIR",
         "Atea Pharmaceuticals, Inc.",
         "3.175",
         "-0.0450001",
         "-1.39752",
         "trending"
        ]
       ],
       "shape": {
        "columns": 6,
        "rows": 5
       }
      },
      "text/html": [
       "<div>\n",
       "<style scoped>\n",
       "    .dataframe tbody tr th:only-of-type {\n",
       "        vertical-align: middle;\n",
       "    }\n",
       "\n",
       "    .dataframe tbody tr th {\n",
       "        vertical-align: top;\n",
       "    }\n",
       "\n",
       "    .dataframe thead th {\n",
       "        text-align: right;\n",
       "    }\n",
       "</style>\n",
       "<table border=\"1\" class=\"dataframe\">\n",
       "  <thead>\n",
       "    <tr style=\"text-align: right;\">\n",
       "      <th></th>\n",
       "      <th>symbol</th>\n",
       "      <th>name</th>\n",
       "      <th>current_price</th>\n",
       "      <th>price_change</th>\n",
       "      <th>percent_change</th>\n",
       "      <th>list_type</th>\n",
       "    </tr>\n",
       "  </thead>\n",
       "  <tbody>\n",
       "    <tr>\n",
       "      <th>0</th>\n",
       "      <td>ATUS</td>\n",
       "      <td>Altice USA, Inc.</td>\n",
       "      <td>2.210</td>\n",
       "      <td>-0.010</td>\n",
       "      <td>-0.450450</td>\n",
       "      <td>trending</td>\n",
       "    </tr>\n",
       "    <tr>\n",
       "      <th>1</th>\n",
       "      <td>JBLU</td>\n",
       "      <td>JetBlue Airways Corporation</td>\n",
       "      <td>4.860</td>\n",
       "      <td>-0.180</td>\n",
       "      <td>-3.571430</td>\n",
       "      <td>trending</td>\n",
       "    </tr>\n",
       "    <tr>\n",
       "      <th>2</th>\n",
       "      <td>KOS</td>\n",
       "      <td>Kosmos Energy Ltd.</td>\n",
       "      <td>2.130</td>\n",
       "      <td>0.130</td>\n",
       "      <td>6.500010</td>\n",
       "      <td>trending</td>\n",
       "    </tr>\n",
       "    <tr>\n",
       "      <th>3</th>\n",
       "      <td>DOLE</td>\n",
       "      <td>Dole plc</td>\n",
       "      <td>13.810</td>\n",
       "      <td>0.090</td>\n",
       "      <td>0.655978</td>\n",
       "      <td>trending</td>\n",
       "    </tr>\n",
       "    <tr>\n",
       "      <th>4</th>\n",
       "      <td>AVIR</td>\n",
       "      <td>Atea Pharmaceuticals, Inc.</td>\n",
       "      <td>3.175</td>\n",
       "      <td>-0.045</td>\n",
       "      <td>-1.397520</td>\n",
       "      <td>trending</td>\n",
       "    </tr>\n",
       "  </tbody>\n",
       "</table>\n",
       "</div>"
      ],
      "text/plain": [
       "  symbol                         name  current_price  price_change  \\\n",
       "0   ATUS             Altice USA, Inc.          2.210        -0.010   \n",
       "1   JBLU  JetBlue Airways Corporation          4.860        -0.180   \n",
       "2    KOS           Kosmos Energy Ltd.          2.130         0.130   \n",
       "3   DOLE                     Dole plc         13.810         0.090   \n",
       "4   AVIR   Atea Pharmaceuticals, Inc.          3.175        -0.045   \n",
       "\n",
       "   percent_change list_type  \n",
       "0       -0.450450  trending  \n",
       "1       -3.571430  trending  \n",
       "2        6.500010  trending  \n",
       "3        0.655978  trending  \n",
       "4       -1.397520  trending  "
      ]
     },
     "execution_count": 49,
     "metadata": {},
     "output_type": "execute_result"
    }
   ],
   "source": [
    "if not \"list_type\" in trend.columns:\n",
    "    trend[\"list_type\"] = [\"trending\" for i in range(len(trend['symbol'].to_list()))]\n",
    "trend.head()"
   ]
  },
  {
   "cell_type": "code",
   "execution_count": 50,
   "id": "76fbde95",
   "metadata": {},
   "outputs": [],
   "source": [
    "full_df_lst = [top_100,most_active,trend]\n",
    "full_df = pd.concat(full_df_lst)"
   ]
  },
  {
   "cell_type": "code",
   "execution_count": 52,
   "id": "e9608064",
   "metadata": {},
   "outputs": [
    {
     "data": {
      "application/vnd.microsoft.datawrangler.viewer.v0+json": {
       "columns": [
        {
         "name": "index",
         "rawType": "int64",
         "type": "integer"
        },
        {
         "name": "symbol",
         "rawType": "object",
         "type": "string"
        },
        {
         "name": "name",
         "rawType": "object",
         "type": "string"
        },
        {
         "name": "current_price",
         "rawType": "float64",
         "type": "float"
        },
        {
         "name": "price_change",
         "rawType": "float64",
         "type": "float"
        },
        {
         "name": "percent_change",
         "rawType": "float64",
         "type": "float"
        },
        {
         "name": "list_type",
         "rawType": "object",
         "type": "string"
        }
       ],
       "ref": "b620fc3b-06bc-421d-ac26-10a89756ec7d",
       "rows": [
        [
         "0",
         "OKLO",
         "Oklo Inc.",
         "68.03",
         "15.49",
         "29.4823",
         "top_100"
        ],
        [
         "1",
         "QUBT",
         "Quantum Computing Inc.",
         "18.97",
         "3.84",
         "25.38",
         "top_100"
        ],
        [
         "2",
         "SMR",
         "NuScale Power Corporation",
         "41.6",
         "7.05",
         "20.4052",
         "top_100"
        ],
        [
         "3",
         "RGTI",
         "Rigetti Computing, Inc.",
         "12.52",
         "1.28",
         "11.3879",
         "top_100"
        ],
        [
         "4",
         "FLR",
         "Fluor Corporation",
         "49.79",
         "4.92",
         "10.965",
         "top_100"
        ],
        [
         "5",
         "LEU",
         "Centrus Energy Corp.",
         "158.13",
         "12.21",
         "8.3676",
         "top_100"
        ],
        [
         "6",
         "BILI",
         "Bilibili Inc.",
         "21.06",
         "1.61",
         "8.27763",
         "top_100"
        ],
        [
         "7",
         "INSM",
         "Insmed Incorporated",
         "97.98",
         "7.05",
         "7.75322",
         "top_100"
        ],
        [
         "8",
         "TLN",
         "Talen Energy Corporation",
         "274.82",
         "19.725",
         "7.73242",
         "top_100"
        ],
        [
         "9",
         "AGX",
         "Argan, Inc.",
         "224.31",
         "14.86",
         "7.09477",
         "top_100"
        ],
        [
         "10",
         "ACHR",
         "Archer Aviation Inc.",
         "12.17",
         "0.79",
         "6.942",
         "top_100"
        ],
        [
         "11",
         "FUTU",
         "Futu Holdings Limited",
         "114.68",
         "7.11",
         "6.60965",
         "top_100"
        ],
        [
         "12",
         "NU",
         "Nu Holdings Ltd.",
         "12.76",
         "0.79",
         "6.59983",
         "top_100"
        ],
        [
         "13",
         "HSAI",
         "Hesai Group",
         "20.62",
         "1.25",
         "6.45328",
         "top_100"
        ],
        [
         "14",
         "PAGS",
         "PagSeguro Digital Ltd.",
         "9.11",
         "0.549999",
         "6.42522",
         "top_100"
        ],
        [
         "15",
         "INTR",
         "Inter & Co, Inc.",
         "7.25",
         "0.4",
         "5.83942",
         "top_100"
        ],
        [
         "16",
         "ELF",
         "e.l.f. Beauty, Inc.",
         "124.52",
         "6.56",
         "5.5612",
         "top_100"
        ],
        [
         "17",
         "COOP",
         "Mr. Cooper Group Inc.",
         "142.78",
         "7.33",
         "5.41159",
         "top_100"
        ],
        [
         "18",
         "ALHC",
         "Alignment Healthcare, Inc.",
         "15.44",
         "0.79",
         "5.39249",
         "top_100"
        ],
        [
         "19",
         "MEOH",
         "Methanex Corporation",
         "35.05",
         "1.73",
         "5.19208",
         "top_100"
        ],
        [
         "20",
         "CLS",
         "Celestica Inc.",
         "127.69",
         "6.18",
         "5.086",
         "top_100"
        ],
        [
         "21",
         "WBD",
         "Warner Bros. Discovery, Inc.",
         "10.51",
         "0.5",
         "4.995",
         "top_100"
        ],
        [
         "22",
         "ADMA",
         "ADMA Biologics, Inc.",
         "21.87",
         "1.01",
         "4.8418",
         "top_100"
        ],
        [
         "23",
         "BSBR",
         "Banco Santander (Brasil) S.A.",
         "5.45",
         "0.25",
         "4.80769",
         "top_100"
        ],
        [
         "24",
         "SOFI",
         "SoFi Technologies, Inc.",
         "15.06",
         "0.67",
         "4.65601",
         "top_100"
        ],
        [
         "0",
         "RGTI",
         "Rigetti Computing, Inc.",
         "12.52",
         "1.28",
         "11.3879",
         "most_active"
        ],
        [
         "1",
         "NVDA",
         "NVIDIA Corporation",
         "142.83",
         "-1.12",
         "-0.778045",
         "most_active"
        ],
        [
         "2",
         "INTC",
         "Intel Corporation",
         "20.68",
         "-1.428",
         "-6.4592",
         "most_active"
        ],
        [
         "3",
         "QUBT",
         "Quantum Computing Inc.",
         "18.97",
         "3.84",
         "25.38",
         "most_active"
        ],
        [
         "4",
         "TSLA",
         "Tesla, Inc.",
         "326.43",
         "0.339996",
         "0.104265",
         "most_active"
        ],
        [
         "5",
         "LCID",
         "Lucid Group, Inc.",
         "2.18",
         "-0.00999999",
         "-0.456621",
         "most_active"
        ],
        [
         "6",
         "F",
         "Ford Motor Company",
         "10.66",
         "0.0599995",
         "0.566033",
         "most_active"
        ],
        [
         "7",
         "PLTR",
         "Palantir Technologies Inc.",
         "136.39",
         "3.58",
         "2.69558",
         "most_active"
        ],
        [
         "8",
         "QBTS",
         "D-Wave Quantum Inc.",
         "16.53",
         "-0.4",
         "-2.36267",
         "most_active"
        ],
        [
         "9",
         "NU",
         "Nu Holdings Ltd.",
         "12.76",
         "0.79",
         "6.59983",
         "most_active"
        ],
        [
         "10",
         "SOFI",
         "SoFi Technologies, Inc.",
         "15.06",
         "0.67",
         "4.65601",
         "most_active"
        ],
        [
         "11",
         "GRAB",
         "Grab Holdings Limited",
         "4.73",
         "0.0500002",
         "1.06838",
         "most_active"
        ],
        [
         "12",
         "AAL",
         "American Airlines Group Inc.",
         "11.06",
         "-0.78",
         "-6.58784",
         "most_active"
        ],
        [
         "13",
         "OKLO",
         "Oklo Inc.",
         "68.03",
         "15.49",
         "29.4823",
         "most_active"
        ],
        [
         "14",
         "AAPL",
         "Apple Inc.",
         "198.78",
         "-3.89",
         "-1.91938",
         "most_active"
        ],
        [
         "15",
         "WBD",
         "Warner Bros. Discovery, Inc.",
         "10.51",
         "0.5",
         "4.995",
         "most_active"
        ],
        [
         "16",
         "BBD",
         "Banco Bradesco S.A.",
         "2.97",
         "0.11",
         "3.84616",
         "most_active"
        ],
        [
         "17",
         "HBAN",
         "Huntington Bancshares Incorporated",
         "16.09",
         "-0.219999",
         "-1.34886",
         "most_active"
        ],
        [
         "18",
         "ACHR",
         "Archer Aviation Inc.",
         "12.17",
         "0.79",
         "6.942",
         "most_active"
        ],
        [
         "19",
         "IONQ",
         "IonQ, Inc.",
         "39.7",
         "-0.0400009",
         "-0.100657",
         "most_active"
        ],
        [
         "20",
         "RIG",
         "Transocean Ltd.",
         "3.2",
         "0.12",
         "3.89611",
         "most_active"
        ],
        [
         "21",
         "PCG",
         "PG&E Corporation",
         "14.39",
         "-0.4",
         "-2.70453",
         "most_active"
        ],
        [
         "22",
         "APLD",
         "Applied Digital Corporation",
         "12.05",
         "-0.429999",
         "-3.44551",
         "most_active"
        ],
        [
         "23",
         "JOBY",
         "Joby Aviation, Inc.",
         "9.63",
         "0.190001",
         "2.01272",
         "most_active"
        ],
        [
         "24",
         "BAC",
         "Bank of America Corporation",
         "44.73",
         "-0.360001",
         "-0.798405",
         "most_active"
        ]
       ],
       "shape": {
        "columns": 6,
        "rows": 75
       }
      },
      "text/html": [
       "<div>\n",
       "<style scoped>\n",
       "    .dataframe tbody tr th:only-of-type {\n",
       "        vertical-align: middle;\n",
       "    }\n",
       "\n",
       "    .dataframe tbody tr th {\n",
       "        vertical-align: top;\n",
       "    }\n",
       "\n",
       "    .dataframe thead th {\n",
       "        text-align: right;\n",
       "    }\n",
       "</style>\n",
       "<table border=\"1\" class=\"dataframe\">\n",
       "  <thead>\n",
       "    <tr style=\"text-align: right;\">\n",
       "      <th></th>\n",
       "      <th>symbol</th>\n",
       "      <th>name</th>\n",
       "      <th>current_price</th>\n",
       "      <th>price_change</th>\n",
       "      <th>percent_change</th>\n",
       "      <th>list_type</th>\n",
       "    </tr>\n",
       "  </thead>\n",
       "  <tbody>\n",
       "    <tr>\n",
       "      <th>0</th>\n",
       "      <td>OKLO</td>\n",
       "      <td>Oklo Inc.</td>\n",
       "      <td>68.0300</td>\n",
       "      <td>15.490000</td>\n",
       "      <td>29.482300</td>\n",
       "      <td>top_100</td>\n",
       "    </tr>\n",
       "    <tr>\n",
       "      <th>1</th>\n",
       "      <td>QUBT</td>\n",
       "      <td>Quantum Computing Inc.</td>\n",
       "      <td>18.9700</td>\n",
       "      <td>3.840000</td>\n",
       "      <td>25.380000</td>\n",
       "      <td>top_100</td>\n",
       "    </tr>\n",
       "    <tr>\n",
       "      <th>2</th>\n",
       "      <td>SMR</td>\n",
       "      <td>NuScale Power Corporation</td>\n",
       "      <td>41.6000</td>\n",
       "      <td>7.050000</td>\n",
       "      <td>20.405200</td>\n",
       "      <td>top_100</td>\n",
       "    </tr>\n",
       "    <tr>\n",
       "      <th>3</th>\n",
       "      <td>RGTI</td>\n",
       "      <td>Rigetti Computing, Inc.</td>\n",
       "      <td>12.5200</td>\n",
       "      <td>1.280000</td>\n",
       "      <td>11.387900</td>\n",
       "      <td>top_100</td>\n",
       "    </tr>\n",
       "    <tr>\n",
       "      <th>4</th>\n",
       "      <td>FLR</td>\n",
       "      <td>Fluor Corporation</td>\n",
       "      <td>49.7900</td>\n",
       "      <td>4.920000</td>\n",
       "      <td>10.965000</td>\n",
       "      <td>top_100</td>\n",
       "    </tr>\n",
       "    <tr>\n",
       "      <th>...</th>\n",
       "      <td>...</td>\n",
       "      <td>...</td>\n",
       "      <td>...</td>\n",
       "      <td>...</td>\n",
       "      <td>...</td>\n",
       "      <td>...</td>\n",
       "    </tr>\n",
       "    <tr>\n",
       "      <th>20</th>\n",
       "      <td>SHO</td>\n",
       "      <td>Sunstone Hotel Investors, Inc.</td>\n",
       "      <td>8.9000</td>\n",
       "      <td>-0.190001</td>\n",
       "      <td>-2.090210</td>\n",
       "      <td>trending</td>\n",
       "    </tr>\n",
       "    <tr>\n",
       "      <th>21</th>\n",
       "      <td>YQ</td>\n",
       "      <td>17 Education &amp; Technology Group Inc.</td>\n",
       "      <td>2.0500</td>\n",
       "      <td>-0.064000</td>\n",
       "      <td>-3.027442</td>\n",
       "      <td>trending</td>\n",
       "    </tr>\n",
       "    <tr>\n",
       "      <th>22</th>\n",
       "      <td>STEM</td>\n",
       "      <td>Stem, Inc.</td>\n",
       "      <td>0.6043</td>\n",
       "      <td>-0.027800</td>\n",
       "      <td>-4.398030</td>\n",
       "      <td>trending</td>\n",
       "    </tr>\n",
       "    <tr>\n",
       "      <th>23</th>\n",
       "      <td>BKD</td>\n",
       "      <td>Brookdale Senior Living Inc.</td>\n",
       "      <td>6.9500</td>\n",
       "      <td>-0.150000</td>\n",
       "      <td>-2.112680</td>\n",
       "      <td>trending</td>\n",
       "    </tr>\n",
       "    <tr>\n",
       "      <th>24</th>\n",
       "      <td>CIM</td>\n",
       "      <td>Chimera Investment Corporation</td>\n",
       "      <td>13.8900</td>\n",
       "      <td>-0.019999</td>\n",
       "      <td>-0.143778</td>\n",
       "      <td>trending</td>\n",
       "    </tr>\n",
       "  </tbody>\n",
       "</table>\n",
       "<p>75 rows × 6 columns</p>\n",
       "</div>"
      ],
      "text/plain": [
       "   symbol                                  name  current_price  price_change  \\\n",
       "0    OKLO                             Oklo Inc.        68.0300     15.490000   \n",
       "1    QUBT                Quantum Computing Inc.        18.9700      3.840000   \n",
       "2     SMR             NuScale Power Corporation        41.6000      7.050000   \n",
       "3    RGTI               Rigetti Computing, Inc.        12.5200      1.280000   \n",
       "4     FLR                     Fluor Corporation        49.7900      4.920000   \n",
       "..    ...                                   ...            ...           ...   \n",
       "20    SHO        Sunstone Hotel Investors, Inc.         8.9000     -0.190001   \n",
       "21     YQ  17 Education & Technology Group Inc.         2.0500     -0.064000   \n",
       "22   STEM                            Stem, Inc.         0.6043     -0.027800   \n",
       "23    BKD          Brookdale Senior Living Inc.         6.9500     -0.150000   \n",
       "24    CIM        Chimera Investment Corporation        13.8900     -0.019999   \n",
       "\n",
       "    percent_change list_type  \n",
       "0        29.482300   top_100  \n",
       "1        25.380000   top_100  \n",
       "2        20.405200   top_100  \n",
       "3        11.387900   top_100  \n",
       "4        10.965000   top_100  \n",
       "..             ...       ...  \n",
       "20       -2.090210  trending  \n",
       "21       -3.027442  trending  \n",
       "22       -4.398030  trending  \n",
       "23       -2.112680  trending  \n",
       "24       -0.143778  trending  \n",
       "\n",
       "[75 rows x 6 columns]"
      ]
     },
     "execution_count": 52,
     "metadata": {},
     "output_type": "execute_result"
    }
   ],
   "source": [
    "full_df"
   ]
  },
  {
   "cell_type": "code",
   "execution_count": null,
   "id": "df406a49",
   "metadata": {},
   "outputs": [],
   "source": []
  }
 ],
 "metadata": {
  "kernelspec": {
   "display_name": "Python 3",
   "language": "python",
   "name": "python3"
  },
  "language_info": {
   "codemirror_mode": {
    "name": "ipython",
    "version": 3
   },
   "file_extension": ".py",
   "mimetype": "text/x-python",
   "name": "python",
   "nbconvert_exporter": "python",
   "pygments_lexer": "ipython3",
   "version": "3.11.0"
  }
 },
 "nbformat": 4,
 "nbformat_minor": 5
}
